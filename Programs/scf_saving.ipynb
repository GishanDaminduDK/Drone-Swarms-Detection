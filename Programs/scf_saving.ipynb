{
 "cells": [
  {
   "cell_type": "code",
   "execution_count": null,
   "metadata": {},
   "outputs": [],
   "source": [
    "import torch\n",
    "import torch.nn as nn\n",
    "import numpy as np\n",
    "from torchvision import transforms\n",
    "from scf import *\n",
    "from data_loader import *\n",
    "# from data_loader_test import *"
   ]
  },
  {
   "cell_type": "code",
   "execution_count": null,
   "metadata": {},
   "outputs": [],
   "source": [
    "data_dir = 'C:/AAA/FYP/Data/Test_14/Drone/'"
   ]
  },
  {
   "cell_type": "code",
   "execution_count": null,
   "metadata": {},
   "outputs": [],
   "source": [
    "# dataloader = data_loader(data_dir, batch_size=32, scf_index = 0)\n",
    "\n",
    "# for data, label in dataloader:\n",
    "#     print(\"step finished\")"
   ]
  },
  {
   "cell_type": "code",
   "execution_count": null,
   "metadata": {},
   "outputs": [],
   "source": [
    "transform_val = transforms.Compose([Augmentation(snr = 0, validation=True), scf_cube_old])\n",
    "\n",
    "dataloader = data_loader(data_dir, batch_size=32, shuffle=False, transform=transform_val, scf_save=True, scf_index = 1)\n",
    "\n",
    "for data, label in dataloader:\n",
    "    print(\"step finished\")"
   ]
  }
 ],
 "metadata": {
  "kernelspec": {
   "display_name": "fyp",
   "language": "python",
   "name": "python3"
  },
  "language_info": {
   "codemirror_mode": {
    "name": "ipython",
    "version": 3
   },
   "file_extension": ".py",
   "mimetype": "text/x-python",
   "name": "python",
   "nbconvert_exporter": "python",
   "pygments_lexer": "ipython3",
   "version": "3.11.5"
  }
 },
 "nbformat": 4,
 "nbformat_minor": 2
}
