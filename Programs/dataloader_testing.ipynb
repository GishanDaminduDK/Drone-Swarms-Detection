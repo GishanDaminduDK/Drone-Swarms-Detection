{
 "cells": [
  {
   "cell_type": "code",
   "execution_count": 1,
   "metadata": {},
   "outputs": [],
   "source": [
    "import os\n",
    "import sys\n",
    "import torch\n",
    "import pandas as pd\n",
    "import numpy as np\n",
    "from torch.utils.data import Dataset, DataLoader\n",
    "from torchvision import transforms\n",
    "from data_loader import *"
   ]
  },
  {
   "cell_type": "code",
   "execution_count": 2,
   "metadata": {},
   "outputs": [],
   "source": [
    "label_path = '../../Data/labels.xlsx'\n",
    "data_dir = '../../Data/Test_2/'"
   ]
  },
  {
   "cell_type": "code",
   "execution_count": 3,
   "metadata": {},
   "outputs": [],
   "source": [
    "transform = transforms.Compose([Augmentation(snr = 0)])"
   ]
  },
  {
   "cell_type": "code",
   "execution_count": 4,
   "metadata": {},
   "outputs": [],
   "source": [
    "# data_loader = DataLoader(RadarDataset('../../Data/Test_2/', label_path, transform = transform), batch_size=1)\n",
    "data_l = data_loader(data_dir, label_path, batch_size=1, shuffle=False, transform=transform)"
   ]
  },
  {
   "cell_type": "code",
   "execution_count": 5,
   "metadata": {},
   "outputs": [
    {
     "name": "stdout",
     "output_type": "stream",
     "text": [
      "tensor([[ 0.0847, -0.1085,  0.0377,  ...,  0.0322, -0.1262, -0.0377],\n",
      "        [-0.0368,  0.1309,  0.1217,  ...,  0.0228, -0.0221, -0.0513],\n",
      "        [-0.0014, -0.0354,  0.0364,  ...,  0.1331, -0.0985, -0.0230],\n",
      "        [-0.0588, -0.0779, -0.2210,  ..., -0.1004, -0.0089, -0.1406]],\n",
      "       dtype=torch.float64)\n",
      "torch.Size([1, 4, 2048])\n",
      "tensor([0])\n"
     ]
    }
   ],
   "source": [
    "for data, label in data_l:\n",
    "    print(data.shape)\n",
    "    print(label)\n",
    "    break"
   ]
  }
 ],
 "metadata": {
  "kernelspec": {
   "display_name": "fyp",
   "language": "python",
   "name": "python3"
  },
  "language_info": {
   "codemirror_mode": {
    "name": "ipython",
    "version": 3
   },
   "file_extension": ".py",
   "mimetype": "text/x-python",
   "name": "python",
   "nbconvert_exporter": "python",
   "pygments_lexer": "ipython3",
   "version": "3.11.5"
  }
 },
 "nbformat": 4,
 "nbformat_minor": 2
}
