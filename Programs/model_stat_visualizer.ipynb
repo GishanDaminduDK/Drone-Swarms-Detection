{
 "cells": [
  {
   "cell_type": "code",
   "execution_count": null,
   "metadata": {},
   "outputs": [],
   "source": [
    "import torch\n",
    "import torch.nn as nn\n",
    "import torch.optim as optim\n",
    "import numpy as np\n",
    "from torchvision import transforms\n",
    "from model_functions import *\n",
    "from scf import *\n",
    "from data_loader_scf import *\n",
    "from model_types import efficientnet_1, custom_model1, efficientnet_2\n",
    "from torchsummary import summary\n",
    "from torchvision import models\n",
    "from copy import deepcopy"
   ]
  },
  {
   "cell_type": "code",
   "execution_count": null,
   "metadata": {},
   "outputs": [],
   "source": [
    "device = \"cuda\" if torch.cuda.is_available() else \"cpu\""
   ]
  },
  {
   "cell_type": "code",
   "execution_count": null,
   "metadata": {},
   "outputs": [],
   "source": [
    "effnet_model = efficientnet_1.Model(in_channels=1)\n",
    "effnet_model.unfreeze_params()\n",
    "\n",
    "state_dict_path = r'C:\\AAA\\FYP\\mimo-radar-drone-detection-fyp\\final code\\saved_models_type\\efficientnet_clipped\\from_epoch_40\\efficientnet_unfreezed_40_10_epoch_82.pt'\n",
    "state_dict = torch.load(state_dict_path)\n",
    "\n",
    "effnet_model.load_state_dict(state_dict['Model state'])\n",
    "effnet_model = effnet_model.to(device)"
   ]
  },
  {
   "cell_type": "code",
   "execution_count": null,
   "metadata": {},
   "outputs": [],
   "source": [
    "train_dir = '../../Data/Dataset/Train/scf/'\n",
    "test_dir = '../../Data/Dataset/Test/scf/'\n",
    "\n",
    "train_data = data_loader(train_dir, shuffle=True, batch_size=128, binary=True)\n",
    "val_data = data_loader(test_dir, shuffle=False, batch_size=128, binary=True)"
   ]
  },
  {
   "cell_type": "code",
   "execution_count": null,
   "metadata": {},
   "outputs": [],
   "source": [
    "accuracy = evaluate_model_binary(effnet_model, val_data, device)"
   ]
  },
  {
   "cell_type": "code",
   "execution_count": null,
   "metadata": {},
   "outputs": [],
   "source": [
    "from data_loader_scf_visualization import *\n",
    "\n",
    "validation_data = data_loader_visualize(test_dir, shuffle=False, batch_size=1, binary=True)\n",
    "\n",
    "from sklearn.metrics import confusion_matrix\n",
    "import seaborn as sn\n",
    "import pandas as pd\n",
    "import numpy as np\n",
    "\n",
    "y_pred = []\n",
    "y_true = []\n",
    "\n",
    "effnet_model.eval()\n",
    "effnet_model = effnet_model.to(device)\n",
    "\n",
    "df = {i:{'true':[], 'false':[]} for i in range(6)}\n",
    "\n",
    "# with torch.no_grad():\n",
    "#     for inputs, labels, label_name, class_label in validation_data:\n",
    "#         if 'reference' in label_name[0] or 'nlos' in label_name[0]:\n",
    "#             inputs = inputs.to(dtype=torch.float)\n",
    "#             inputs, labels = inputs.to(device), labels.to(device).reshape(-1,1)\n",
    "#             output = effnet_model(inputs)\n",
    "#             predicted = (output > 0).int().reshape(-1).data.cpu().numpy()\n",
    "#             y_pred.extend(predicted)\n",
    "\n",
    "#             labels = labels.reshape(-1).data.cpu().numpy()\n",
    "#             y_true.extend(labels)\n",
    "            \n",
    "#             if predicted[0] == labels[0]:\n",
    "#                 df[int(class_label)]['true'].append(label_name[0])\n",
    "#             else:\n",
    "#                 df[int(class_label)]['false'].append(label_name[0])\n",
    "\n",
    "\n",
    "with torch.no_grad():\n",
    "    for inputs, labels, label_name, class_label in validation_data:\n",
    "        inputs = inputs.to(dtype=torch.float)\n",
    "        inputs, labels = inputs.to(device), labels.to(device).reshape(-1,1)\n",
    "        output = effnet_model(inputs)\n",
    "        predicted = (output > 0).int().reshape(-1).data.cpu().numpy()\n",
    "        y_pred.extend(predicted)\n",
    "\n",
    "        labels = labels.reshape(-1).data.cpu().numpy()\n",
    "        y_true.extend(labels)\n",
    "        \n",
    "        if predicted[0] == labels[0]:\n",
    "            df[int(class_label)]['true'].append(label_name[0])\n",
    "        else:\n",
    "            df[int(class_label)]['false'].append(label_name[0])\n",
    "\n",
    "                \n",
    "classes = ('reference', 'drone')\n",
    "\n",
    "cf_matrix = confusion_matrix(y_true, y_pred)\n",
    "df_cm = pd.DataFrame(cf_matrix, index = [i for i in classes],\n",
    "                     columns = [i for i in classes])\n",
    "plt.figure(figsize = (12,7))\n",
    "sn.heatmap(df_cm, annot=True, cmap='Blues')"
   ]
  },
  {
   "cell_type": "code",
   "execution_count": null,
   "metadata": {},
   "outputs": [],
   "source": [
    "df_cm = pd.DataFrame(cf_matrix / np.sum(cf_matrix, axis=1)[:, None], index = [i for i in classes],\n",
    "                     columns = [i for i in classes])\n",
    "plt.figure(figsize = (12,7))\n",
    "sn.heatmap(df_cm, annot=True, cmap='Blues', annot_kws={\"fontsize\": 20})"
   ]
  },
  {
   "cell_type": "code",
   "execution_count": null,
   "metadata": {},
   "outputs": [],
   "source": [
    "index = 5\n",
    "print(\"true\", len(df[index]['true']))\n",
    "print('false', len(df[index]['false']))\n",
    "print('ratio', len(df[index]['true'])/(len(df[index]['true'])+len(df[index]['false'])))\n",
    "\n",
    "df[index]"
   ]
  },
  {
   "cell_type": "code",
   "execution_count": null,
   "metadata": {},
   "outputs": [],
   "source": [
    "# for i in (1,4,5):\n",
    "#     df[i]['true'] = [data for data in df[i]['true'] if 'nlos' in data]\n",
    "#     df[i]['false'] = [data for data in df[i]['false'] if 'nlos' in data]"
   ]
  },
  {
   "cell_type": "code",
   "execution_count": null,
   "metadata": {},
   "outputs": [],
   "source": [
    "# index = 5\n",
    "# print(\"true\", len(df[index]['true']))\n",
    "# print('false', len(df[index]['false']))\n",
    "# print('ratio', len(df[index]['true'])/(len(df[index]['true'])+len(df[index]['false'])))"
   ]
  },
  {
   "cell_type": "code",
   "execution_count": null,
   "metadata": {},
   "outputs": [],
   "source": [
    "# from data_loader_scf_visualization import *\n",
    "\n",
    "# test_dir = '../../Data/Dataset/Test/scf/visualize/'\n",
    "\n",
    "# val_data_visualize = data_loader_visualize(test_dir, shuffle=False, batch_size=1, binary=True)\n",
    "\n",
    "# for data, labels, label_name, class_name in val_data_visualize:\n",
    "#     print(label_name)\n",
    "#     plt.matshow(torch.clamp(data[0][1], max=500))\n",
    "#     plt.colorbar()\n",
    "#     plt.show()"
   ]
  }
 ],
 "metadata": {
  "kernelspec": {
   "display_name": "fyp",
   "language": "python",
   "name": "python3"
  },
  "language_info": {
   "codemirror_mode": {
    "name": "ipython",
    "version": 3
   },
   "file_extension": ".py",
   "mimetype": "text/x-python",
   "name": "python",
   "nbconvert_exporter": "python",
   "pygments_lexer": "ipython3",
   "version": "3.11.5"
  }
 },
 "nbformat": 4,
 "nbformat_minor": 2
}
