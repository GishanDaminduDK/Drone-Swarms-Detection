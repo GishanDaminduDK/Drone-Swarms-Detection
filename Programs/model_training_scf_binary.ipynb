{
 "cells": [
  {
   "cell_type": "code",
   "execution_count": null,
   "metadata": {},
   "outputs": [],
   "source": [
    "import torch\n",
    "import torch.nn as nn\n",
    "import torch.optim as optim\n",
    "import numpy as np\n",
    "from torchvision import transforms\n",
    "from model_functions import *\n",
    "from scf import *\n",
    "from data_loader_scf import *\n",
    "from model_types import efficientnet_1, custom_model1\n",
    "from torchsummary import summary\n",
    "from torchvision import models\n",
    "\n",
    "from copy import deepcopy"
   ]
  },
  {
   "cell_type": "code",
   "execution_count": null,
   "metadata": {},
   "outputs": [],
   "source": [
    "device = \"cuda\" if torch.cuda.is_available() else \"cpu\""
   ]
  },
  {
   "cell_type": "code",
   "execution_count": null,
   "metadata": {},
   "outputs": [],
   "source": [
    "efnet_model = efficientnet_1.Model(in_channels=4)"
   ]
  },
  {
   "cell_type": "code",
   "execution_count": null,
   "metadata": {},
   "outputs": [],
   "source": [
    "train_dir = '../../Data/Dataset_adjusted/Train/scf/'\n",
    "# val_dir = '../../Data/Dataset/Test/scf/'\n",
    "\n",
    "train_data = data_loader(train_dir, shuffle=True, batch_size=64, binary=True)\n",
    "# val_data = data_loader(val_dir, shuffle=False, batch_size=64, binary=True)"
   ]
  },
  {
   "cell_type": "code",
   "execution_count": null,
   "metadata": {},
   "outputs": [],
   "source": [
    "summary(deepcopy(efnet_model).to(device), (4,512,512))"
   ]
  },
  {
   "cell_type": "code",
   "execution_count": null,
   "metadata": {},
   "outputs": [],
   "source": [
    "criterion = nn.BCEWithLogitsLoss(pos_weight=torch.tensor([0.282]).to(device))\n",
    "optimizer = optim.Adam(efnet_model.parameters(), lr=0.0005, weight_decay=1e-5)"
   ]
  },
  {
   "cell_type": "code",
   "execution_count": null,
   "metadata": {},
   "outputs": [],
   "source": [
    "epochs = 10\n",
    "loss, optimizer = train_model_binary(efnet_model, epochs, criterion, optimizer, train_data, device)"
   ]
  },
  {
   "cell_type": "code",
   "execution_count": null,
   "metadata": {},
   "outputs": [],
   "source": [
    "# accuracy = evaluate_model_binary(efnet_model, val_data, device)"
   ]
  },
  {
   "cell_type": "code",
   "execution_count": null,
   "metadata": {},
   "outputs": [],
   "source": [
    "save_path = r'C:\\AAA\\FYP\\mimo-radar-drone-detection-fyp\\final code\\saved_models_type\\efficientnet_bias_adjusted'\n",
    "# save_model(save_path, efnet_model, f'efficientnet_model_10_epoch{round(accuracy)}', optimizer=optimizer)\n",
    "save_model(save_path, efnet_model, f'efficientnet_model_10_epoch', optimizer=optimizer)"
   ]
  },
  {
   "cell_type": "code",
   "execution_count": null,
   "metadata": {},
   "outputs": [],
   "source": [
    "# from sklearn.metrics import confusion_matrix\n",
    "# import seaborn as sn\n",
    "# import pandas as pd\n",
    "# import numpy as np\n",
    "\n",
    "# y_pred = []\n",
    "# y_true = []\n",
    "\n",
    "# efnet_model = efnet_model.to(device)\n",
    "# efnet_model.eval()\n",
    "\n",
    "# with torch.no_grad():\n",
    "#     for inputs, labels in val_data:\n",
    "#         inputs = inputs.to(dtype=torch.float)\n",
    "#         inputs, labels = inputs.to(device), labels.to(device).reshape(-1,1)\n",
    "#         output = efnet_model(inputs)\n",
    "#         predicted = (output > 0).float().reshape(-1).data.cpu().numpy()\n",
    "#         y_pred.extend(predicted)\n",
    "        \n",
    "#         labels = labels.reshape(-1).data.cpu().numpy()\n",
    "#         y_true.extend(labels)\n",
    "\n",
    "# classes = ('reference', 'drone')\n",
    "\n",
    "# cf_matrix = confusion_matrix(y_true, y_pred)\n",
    "# df_cm = pd.DataFrame(cf_matrix, index = [i for i in classes],\n",
    "#                      columns = [i for i in classes])\n",
    "# plt.figure(figsize = (12,7))\n",
    "# sn.heatmap(df_cm, annot=True)"
   ]
  },
  {
   "cell_type": "code",
   "execution_count": null,
   "metadata": {},
   "outputs": [],
   "source": [
    "epochs = 10\n",
    "loss, optimizer = train_model_binary(efnet_model, epochs, criterion, optimizer, train_data, device)\n",
    "\n",
    "# accuracy = evaluate_model_binary(efnet_model, val_data, device)\n",
    "\n",
    "save_model(save_path, efnet_model, f'efficientnet_model_20_epoch', optimizer=optimizer)\n",
    "# from sklearn.metrics import confusion_matrix\n",
    "# import seaborn as sn\n",
    "# import pandas as pd\n",
    "# import numpy as np\n",
    "\n",
    "# y_pred = []\n",
    "# y_true = []\n",
    "\n",
    "# efnet_model = efnet_model.to(device)\n",
    "# efnet_model.eval()\n",
    "\n",
    "# with torch.no_grad():\n",
    "#     for inputs, labels in val_data:\n",
    "#         inputs = inputs.to(dtype=torch.float)\n",
    "#         inputs, labels = inputs.to(device), labels.to(device).reshape(-1,1)\n",
    "#         output = efnet_model(inputs)\n",
    "#         predicted = (output > 0).float().reshape(-1).data.cpu().numpy()\n",
    "#         y_pred.extend(predicted)\n",
    "        \n",
    "#         labels = labels.reshape(-1).data.cpu().numpy()\n",
    "#         y_true.extend(labels)\n",
    "\n",
    "# classes = ('reference', 'drone')\n",
    "\n",
    "# cf_matrix = confusion_matrix(y_true, y_pred)\n",
    "# df_cm = pd.DataFrame(cf_matrix, index = [i for i in classes],\n",
    "#                      columns = [i for i in classes])\n",
    "# plt.figure(figsize = (12,7))\n",
    "# sn.heatmap(df_cm, annot=True)"
   ]
  }
 ],
 "metadata": {
  "kernelspec": {
   "display_name": "fyp",
   "language": "python",
   "name": "python3"
  },
  "language_info": {
   "codemirror_mode": {
    "name": "ipython",
    "version": 3
   },
   "file_extension": ".py",
   "mimetype": "text/x-python",
   "name": "python",
   "nbconvert_exporter": "python",
   "pygments_lexer": "ipython3",
   "version": "3.11.5"
  }
 },
 "nbformat": 4,
 "nbformat_minor": 2
}
