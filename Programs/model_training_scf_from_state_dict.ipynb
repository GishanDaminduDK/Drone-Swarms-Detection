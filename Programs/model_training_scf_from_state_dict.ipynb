{
 "cells": [
  {
   "cell_type": "code",
   "execution_count": null,
   "metadata": {},
   "outputs": [],
   "source": [
    "import torch\n",
    "import torch.nn as nn\n",
    "import torch.optim as optim\n",
    "import numpy as np\n",
    "from torchvision import transforms\n",
    "from model_functions import *\n",
    "from scf import *\n",
    "from data_loader_scf import *\n",
    "from model_types import efficientnet_1, custom_model1, efficientnet_2\n",
    "from torchsummary import summary\n",
    "from torchvision import models\n",
    "from copy import deepcopy"
   ]
  },
  {
   "cell_type": "code",
   "execution_count": null,
   "metadata": {},
   "outputs": [],
   "source": [
    "device = \"cuda\" if torch.cuda.is_available() else \"cpu\""
   ]
  },
  {
   "cell_type": "code",
   "execution_count": null,
   "metadata": {},
   "outputs": [],
   "source": [
    "effnet_model = efficientnet_2.Model(in_channels=4)\n",
    "effnet_model.unfreeze_params()"
   ]
  },
  {
   "cell_type": "code",
   "execution_count": null,
   "metadata": {},
   "outputs": [],
   "source": [
    "state_dict_path = r'C:\\AAA\\FYP\\mimo-radar-drone-detection-fyp\\final code\\saved_models_type\\efficientnet_class\\from_epoch_60\\efficientnet_unfreezed_60_50_epoch_76.pt'\n",
    "state_dict = torch.load(state_dict_path)\n",
    "\n",
    "effnet_model.load_state_dict(state_dict['Model state'])\n",
    "effnet_model = effnet_model.to(device)\n",
    "\n",
    "optimizer = optim.Adam(effnet_model.parameters(), lr=0.00001, weight_decay=1e-5)\n",
    "optimizer.load_state_dict(state_dict['Optimizer state'])\n",
    "# param_group = optimizer.param_groups[0]\n",
    "# param_group['lr'] = 1e-5\n",
    "# param_group['weight_decay'] = 5e-4\n",
    "optimizer"
   ]
  },
  {
   "cell_type": "code",
   "execution_count": null,
   "metadata": {},
   "outputs": [],
   "source": [
    "train_dir = '../../Data/Dataset/Train/scf/'\n",
    "test_dir = '../../Data/Dataset/Test/scf/'\n",
    "\n",
    "train_data = data_loader(train_dir, shuffle=True, batch_size=128, binary=True)\n",
    "val_data = data_loader(test_dir, shuffle=False, batch_size=128, binary=True)"
   ]
  },
  {
   "cell_type": "code",
   "execution_count": null,
   "metadata": {},
   "outputs": [],
   "source": [
    "summary(deepcopy(effnet_model).to(device), (1,512,512))"
   ]
  },
  {
   "cell_type": "code",
   "execution_count": null,
   "metadata": {},
   "outputs": [],
   "source": [
    "accuracy = evaluate_model_binary(effnet_model, val_data, device)"
   ]
  },
  {
   "cell_type": "code",
   "execution_count": null,
   "metadata": {},
   "outputs": [],
   "source": [
    "criterion = nn.BCEWithLogitsLoss(pos_weight=torch.tensor([0.282]).to(device))"
   ]
  },
  {
   "cell_type": "code",
   "execution_count": null,
   "metadata": {},
   "outputs": [],
   "source": [
    "epochs = 10\n",
    "loss, optimizer = train_model_binary(effnet_model, epochs, criterion, optimizer, train_data, device)"
   ]
  },
  {
   "cell_type": "code",
   "execution_count": null,
   "metadata": {},
   "outputs": [],
   "source": [
    "accuracy = evaluate_model_binary(effnet_model, val_data, device)"
   ]
  },
  {
   "cell_type": "code",
   "execution_count": null,
   "metadata": {},
   "outputs": [],
   "source": [
    "save_path = r'C:\\AAA\\FYP\\mimo-radar-drone-detection-fyp\\final code\\saved_models_type\\efficientnet_clipped\\from_epoch_40'\n",
    "save_model(save_path, effnet_model, f'efficientnet_unfreezed_40_10_epoch_{round(accuracy)}', optimizer=optimizer)"
   ]
  },
  {
   "cell_type": "code",
   "execution_count": null,
   "metadata": {},
   "outputs": [],
   "source": [
    "# from data_loader_scf_visualization import *\n",
    "\n",
    "# validation_data = data_loader_visualize(test_dir, shuffle=False, batch_size=1, binary=True)A"
   ]
  },
  {
   "cell_type": "code",
   "execution_count": null,
   "metadata": {},
   "outputs": [],
   "source": [
    "# from sklearn.metrics import confusion_matrix\n",
    "# import seaborn as sn\n",
    "# import pandas as pd\n",
    "# import numpy as np\n",
    "\n",
    "# y_pred = []\n",
    "# y_true = []\n",
    "\n",
    "# effnet_model.eval()\n",
    "# effnet_model = effnet_model.to(device)\n",
    "\n",
    "# df_fp = {0:[], 1:[], 2:[], 3:[], 4:[], 5:[]}\n",
    "# df_fn = {0:[], 1:[], 2:[], 3:[], 4:[], 5:[]}\n",
    "\n",
    "# with torch.no_grad():\n",
    "#     for inputs, labels, label_name, class_label in validation_data:\n",
    "#         inputs = inputs.to(dtype=torch.float)\n",
    "#         inputs, labels = inputs.to(device), labels.to(device).reshape(-1,1)\n",
    "#         output = effnet_model(inputs)\n",
    "#         predicted = (output > 0).int().reshape(-1).data.cpu().numpy()\n",
    "#         y_pred.extend(predicted)\n",
    "\n",
    "#         labels = labels.reshape(-1).data.cpu().numpy()\n",
    "#         y_true.extend(labels)\n",
    "        \n",
    "#         if predicted[0] == labels[0]:\n",
    "#             pass\n",
    "#         elif predicted[0] == 0:\n",
    "#             df_fn[int(class_label[0])].append(label_name[0])\n",
    "#         else:\n",
    "#             df_fp[int(class_label[0])].append(label_name[0])\n",
    "\n",
    "# classes = ('reference', 'drone')\n",
    "\n",
    "# cf_matrix = confusion_matrix(y_true, y_pred)\n",
    "# df_cm = pd.DataFrame(cf_matrix, index = [i for i in classes],\n",
    "#                      columns = [i for i in classes])\n",
    "# plt.figure(figsize = (12,7))\n",
    "# sn.heatmap(df_cm, annot=True)"
   ]
  },
  {
   "cell_type": "code",
   "execution_count": null,
   "metadata": {},
   "outputs": [],
   "source": [
    "from sklearn.metrics import confusion_matrix\n",
    "import seaborn as sn\n",
    "import pandas as pd\n",
    "import numpy as np\n",
    "\n",
    "y_pred = []\n",
    "y_true = []\n",
    "\n",
    "effnet_model = effnet_model.to(device)\n",
    "effnet_model.eval()\n",
    "\n",
    "with torch.no_grad():\n",
    "    for inputs, labels in val_data:\n",
    "        inputs = inputs.to(dtype=torch.float)\n",
    "        inputs, labels = inputs.to(device), labels.to(device).reshape(-1,1)\n",
    "        output = effnet_model(inputs)\n",
    "        predicted = (output > 0).float().reshape(-1).data.cpu().numpy()\n",
    "        y_pred.extend(predicted)\n",
    "        \n",
    "        labels = labels.reshape(-1).data.cpu().numpy()\n",
    "        y_true.extend(labels)\n",
    "\n",
    "classes = ('reference', 'drone')\n",
    "\n",
    "cf_matrix = confusion_matrix(y_true, y_pred)\n",
    "df_cm = pd.DataFrame(cf_matrix, index = [i for i in classes],\n",
    "                     columns = [i for i in classes])\n",
    "plt.figure(figsize = (12,7))\n",
    "sn.heatmap(df_cm, annot=True)"
   ]
  },
  {
   "cell_type": "code",
   "execution_count": null,
   "metadata": {},
   "outputs": [],
   "source": [
    "epochs = 10\n",
    "loss, optimizer = train_model_binary(effnet_model, epochs, criterion, optimizer, train_data, device)\n",
    "\n",
    "accuracy = evaluate_model_binary(effnet_model, val_data, device)\n",
    "\n",
    "save_model(save_path, effnet_model, f'efficientnet_unfreezed_40_20_epoch_{round(accuracy)}', optimizer=optimizer)\n",
    "\n",
    "from sklearn.metrics import confusion_matrix\n",
    "import seaborn as sn\n",
    "import pandas as pd\n",
    "import numpy as np\n",
    "\n",
    "y_pred = []\n",
    "y_true = []\n",
    "\n",
    "efnet_model = effnet_model.to(device)\n",
    "efnet_model.eval()\n",
    "\n",
    "with torch.no_grad():\n",
    "    for inputs, labels in val_data:\n",
    "        inputs = inputs.to(dtype=torch.float)\n",
    "        inputs, labels = inputs.to(device), labels.to(device).reshape(-1,1)\n",
    "        output = efnet_model(inputs)\n",
    "        predicted = (output > 0).float().reshape(-1).data.cpu().numpy()\n",
    "        y_pred.extend(predicted)\n",
    "        \n",
    "        labels = labels.reshape(-1).data.cpu().numpy()\n",
    "        y_true.extend(labels)\n",
    "\n",
    "classes = ('reference', 'drone')\n",
    "\n",
    "cf_matrix = confusion_matrix(y_true, y_pred)\n",
    "df_cm = pd.DataFrame(cf_matrix, index = [i for i in classes],\n",
    "                     columns = [i for i in classes])\n",
    "plt.figure(figsize = (12,7))\n",
    "sn.heatmap(df_cm, annot=True)"
   ]
  }
 ],
 "metadata": {
  "kernelspec": {
   "display_name": "fyp",
   "language": "python",
   "name": "python3"
  },
  "language_info": {
   "codemirror_mode": {
    "name": "ipython",
    "version": 3
   },
   "file_extension": ".py",
   "mimetype": "text/x-python",
   "name": "python",
   "nbconvert_exporter": "python",
   "pygments_lexer": "ipython3",
   "version": "3.11.5"
  }
 },
 "nbformat": 4,
 "nbformat_minor": 2
}
