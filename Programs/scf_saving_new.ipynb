{
 "cells": [
  {
   "cell_type": "code",
   "execution_count": 1,
   "metadata": {},
   "outputs": [],
   "source": [
    "import torch\n",
    "import torch.nn as nn\n",
    "import numpy as np\n",
    "from torchvision import transforms\n",
    "from scf import *\n",
    "from data_loader import *"
   ]
  },
  {
   "cell_type": "code",
   "execution_count": 2,
   "metadata": {},
   "outputs": [
    {
     "name": "stdout",
     "output_type": "stream",
     "text": [
      "Mean : tensor([2788.2012, 2524.4048, 2288.8696, 2822.5466])\n",
      "std : tensor([ 684.5565,  960.9899, 1198.3586, 1178.5878])\n",
      "step finished\n",
      "step finished\n",
      "step finished\n",
      "step finished\n"
     ]
    }
   ],
   "source": [
    "i = 4\n",
    "\n",
    "data_dir = f'C:/AAA/FYP/Data/Dataset_adjusted/Train/Test_{i}/'\n",
    "\n",
    "datapaths = [os.path.join(data_dir, file_name) for file_name in os.listdir(data_dir) if (file_name.endswith('.csv') and 'reference' in file_name)]\n",
    "\n",
    "full_list = []\n",
    "for datapath in datapaths:\n",
    "    df = pd.read_csv(datapath)\n",
    "    full_list.append(df)\n",
    "\n",
    "combined_df = pd.concat(full_list, ignore_index=True)\n",
    "mean = torch.tensor(combined_df.mean()).to(torch.float)\n",
    "std = torch.tensor(combined_df.std()).to(torch.float)\n",
    "print(\"Mean :\", mean)\n",
    "print(\"std :\", std)\n",
    "\n",
    "for i in range(1):\n",
    "    transform_val = transforms.Compose([Augmentation(snr = 0.1*i, mean=mean, std=std), scf_cube_old])\n",
    "\n",
    "    dataloader = data_loader(data_dir, batch_size=32, shuffle=False, transform=transform_val, scf_save=True, scf_index = i+1)\n",
    "\n",
    "    for data, label in dataloader:\n",
    "        print(\"step finished\")"
   ]
  }
 ],
 "metadata": {
  "kernelspec": {
   "display_name": "fyp",
   "language": "python",
   "name": "python3"
  },
  "language_info": {
   "codemirror_mode": {
    "name": "ipython",
    "version": 3
   },
   "file_extension": ".py",
   "mimetype": "text/x-python",
   "name": "python",
   "nbconvert_exporter": "python",
   "pygments_lexer": "ipython3",
   "version": "3.11.5"
  }
 },
 "nbformat": 4,
 "nbformat_minor": 2
}
